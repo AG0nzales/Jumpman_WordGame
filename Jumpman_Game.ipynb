{
  "nbformat": 4,
  "nbformat_minor": 0,
  "metadata": {
    "colab": {
      "provenance": [],
      "authorship_tag": "ABX9TyMgSLTv9NmY216r0wLwJY9r"
    },
    "kernelspec": {
      "name": "python3",
      "display_name": "Python 3"
    },
    "language_info": {
      "name": "python"
    }
  },
  "cells": [
    {
      "cell_type": "markdown",
      "source": [
        "### Word list"
      ],
      "metadata": {
        "id": "YStk2tQ9ybnP"
      }
    },
    {
      "cell_type": "code",
      "execution_count": 12,
      "metadata": {
        "id": "lJiXOMN7yCuE"
      },
      "outputs": [],
      "source": [
        "# can be done in a separate python file\n",
        "# import word_list from words\n",
        "word_list = [\n",
        "    'Ruby',\n",
        "    'Rust',\n",
        "    'Java',\n",
        "    'Golang',\n",
        "    'python',\n",
        "    'mysql',\n",
        "    'javascript',\n",
        "    'firebase',\n",
        "    'semicolon',\n",
        "    'stackoverflow',\n",
        "    'error'\n",
        "]"
      ]
    },
    {
      "cell_type": "markdown",
      "source": [
        "### Imports"
      ],
      "metadata": {
        "id": "3k8z4S7IybQN"
      }
    },
    {
      "cell_type": "code",
      "source": [
        "import random\n",
        "from numpy import indices"
      ],
      "metadata": {
        "id": "9dKdunC_yhbZ"
      },
      "execution_count": 2,
      "outputs": []
    },
    {
      "cell_type": "markdown",
      "source": [
        "### Function to get random word"
      ],
      "metadata": {
        "id": "0S1G8vQOyizj"
      }
    },
    {
      "cell_type": "code",
      "source": [
        "def get_word():\n",
        "    word = random.choice(word_list)\n",
        "    return word.upper()"
      ],
      "metadata": {
        "id": "CUbnl2Vhyl66"
      },
      "execution_count": 3,
      "outputs": []
    },
    {
      "cell_type": "markdown",
      "source": [
        "### Function for the Jumper man"
      ],
      "metadata": {
        "id": "I6a4lOTlyqe2"
      }
    },
    {
      "cell_type": "code",
      "source": [
        "def display_jumper(tries):\n",
        "    stages = [\n",
        "         \"\"\"\n",
        "          x\n",
        "         /|\\\\\n",
        "         / \\\\\n",
        "        \"\"\",\n",
        "        \"\"\"\n",
        "         \\ /\n",
        "          0\n",
        "         /|\\\\\n",
        "         / \\\\\n",
        "        \"\"\",\n",
        "        \"\"\"\n",
        "        \\   /\n",
        "         \\ /\n",
        "          0\n",
        "         /|\\\\\n",
        "         / \\\\\n",
        "        \"\"\",\n",
        "        \"\"\"           \n",
        "          __\\\\\n",
        "        \\   /\n",
        "         \\ /\n",
        "          0\n",
        "         /|\\\\\n",
        "         / \\\\\n",
        "        \"\"\",\n",
        "         \"\"\"\n",
        "          __\n",
        "         ___\\\\\n",
        "        \\   /\n",
        "         \\ /\n",
        "          0\n",
        "         /|\\\\\n",
        "         / \\\\\n",
        "        \"\"\",\n",
        "        \"\"\"\n",
        "         ___\n",
        "        /___\\\\\n",
        "        \\   /\n",
        "         \\ /\n",
        "          0\n",
        "         /|\\\\\n",
        "         / \\\\\n",
        "             \n",
        "        \"\"\",\n",
        "    ]\n",
        "    return stages[tries]"
      ],
      "metadata": {
        "id": "kxdECpQ9yne-"
      },
      "execution_count": 4,
      "outputs": []
    },
    {
      "cell_type": "markdown",
      "source": [
        "## Function for the game"
      ],
      "metadata": {
        "id": "R3vOjKOHzaQW"
      }
    },
    {
      "cell_type": "code",
      "source": [
        "def play(word):\n",
        "    word_completion = \"_ \" * len(word)\n",
        "    guessed = False\n",
        "    guessed_letters = []\n",
        "    guessed_words = []\n",
        "    tries = 5\n",
        "    print(\"Let's play Jumpman! the words are all about programming\")\n",
        "    print(word_completion)\n",
        "    print(display_jumper(tries))\n",
        "    print('\\n')\n",
        "    \n",
        "    while not guessed and tries > 0:\n",
        "        guess = input('guess a letter or word: ').upper()\n",
        "        if len(guess) == 1 and guess.isalpha():\n",
        "            if guess in guessed_letters:\n",
        "                print(\"already guessed \", guess)\n",
        "        \n",
        "            elif guess not in word:\n",
        "                print(guess, 'oops not in the word')\n",
        "                tries -= 1\n",
        "                guessed_letters.append(guess)\n",
        "            \n",
        "            else:\n",
        "                print('Nice One! ', guess, ' is in the word!')\n",
        "                guessed_letters.append(guess)\n",
        "                word_as_list = list(word_completion)\n",
        "                indices = [i for i, letter in enumerate(word) if letter == guess]\n",
        "                for index in indices:\n",
        "                    word_as_list[index] = guess\n",
        "                word_completion = \"\".join(word_as_list)\n",
        "                if \"_\" not in word_completion:\n",
        "                    guessed = True\n",
        "        \n",
        "        elif len(guess) == len(word) and guess.isalpha():\n",
        "            if guess in guessed_words:\n",
        "                print(\"Oops already guessed \", guess)\n",
        "                \n",
        "            elif guess != word:\n",
        "                print(guess, ' engk not the word sorry')\n",
        "                tries -= 1\n",
        "                guessed_words.append(guess)\n",
        "            \n",
        "            else:\n",
        "                guessed = True\n",
        "                word_completion = word\n",
        "                \n",
        "        else:\n",
        "            print('Oops not a valid guess')\n",
        "        \n",
        "        print(\"Let's play Jumpman!\")\n",
        "        print(word_completion)\n",
        "        print(display_jumper(tries))\n",
        "        print('\\n')\n",
        "        \n",
        "    if guessed:\n",
        "        print(\"Kuyawa!, Nice one! you got the word right!\")    \n",
        "    \n",
        "    else:\n",
        "        print('Awe sad no more tries, the word was ' + word + '. Puhon napod!')"
      ],
      "metadata": {
        "id": "j5pGegpnyzMt"
      },
      "execution_count": 13,
      "outputs": []
    },
    {
      "cell_type": "markdown",
      "source": [
        "## Main Method"
      ],
      "metadata": {
        "id": "LEhjwAIYzc05"
      }
    },
    {
      "cell_type": "code",
      "source": [
        "def main():\n",
        "    word = get_word()\n",
        "    play(word)\n",
        "    while input('Play Again? (Y/N) ').upper() == 'Y':\n",
        "        word =  get_word()\n",
        "        play(word)\n",
        "        \n",
        "        \n",
        "if __name__ == \"__main__\":\n",
        "    main()"
      ],
      "metadata": {
        "colab": {
          "base_uri": "https://localhost:8080/"
        },
        "id": "c_TL9W3ozeDj",
        "outputId": "0c546211-9581-4aa0-d6ca-c760ad1dd52e"
      },
      "execution_count": 14,
      "outputs": [
        {
          "name": "stdout",
          "output_type": "stream",
          "text": [
            "Let's play Jumpman! the words are all about programming\n",
            "_ _ _ _ _ _ \n",
            "\n",
            "         ___\n",
            "        /___\\\n",
            "        \\   /\n",
            "         \\ /\n",
            "          0\n",
            "         /|\\\n",
            "         / \\\n",
            "             \n",
            "        \n",
            "\n",
            "\n",
            "guess a letter or word: s\n",
            "S oops not in the word\n",
            "Let's play Jumpman!\n",
            "_ _ _ _ _ _ \n",
            "\n",
            "          __\n",
            "         ___\\\n",
            "        \\   /\n",
            "         \\ /\n",
            "          0\n",
            "         /|\\\n",
            "         / \\\n",
            "        \n",
            "\n",
            "\n",
            "guess a letter or word: g\n",
            "G oops not in the word\n",
            "Let's play Jumpman!\n",
            "_ _ _ _ _ _ \n",
            "           \n",
            "          __\\\n",
            "        \\   /\n",
            "         \\ /\n",
            "          0\n",
            "         /|\\\n",
            "         / \\\n",
            "        \n",
            "\n",
            "\n",
            "guess a letter or word: j\n",
            "J oops not in the word\n",
            "Let's play Jumpman!\n",
            "_ _ _ _ _ _ \n",
            "\n",
            "        \\   /\n",
            "         \\ /\n",
            "          0\n",
            "         /|\\\n",
            "         / \\\n",
            "        \n",
            "\n",
            "\n",
            "guess a letter or word: r\n",
            "R oops not in the word\n",
            "Let's play Jumpman!\n",
            "_ _ _ _ _ _ \n",
            "\n",
            "         \\ /\n",
            "          0\n",
            "         /|\\\n",
            "         / \\\n",
            "        \n",
            "\n",
            "\n",
            "guess a letter or word: o\n",
            "Nice One!  O  is in the word!\n",
            "Let's play Jumpman!\n",
            "_ _ O _ _ _ \n",
            "\n",
            "         \\ /\n",
            "          0\n",
            "         /|\\\n",
            "         / \\\n",
            "        \n",
            "\n",
            "\n",
            "guess a letter or word: k\n",
            "K oops not in the word\n",
            "Let's play Jumpman!\n",
            "_ _ O _ _ _ \n",
            "\n",
            "          x\n",
            "         /|\\\n",
            "         / \\\n",
            "        \n",
            "\n",
            "\n",
            "Awe sad no more tries, the word was PYTHON. Puhon napod!\n",
            "Play Again? (Y/N) n\n"
          ]
        }
      ]
    }
  ]
}